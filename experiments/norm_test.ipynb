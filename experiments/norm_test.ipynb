{
 "cells": [
  {
   "cell_type": "code",
   "execution_count": 1,
   "metadata": {},
   "outputs": [
    {
     "name": "stderr",
     "output_type": "stream",
     "text": [
      "2023-09-13 17:00:40.299235: I tensorflow/core/util/port.cc:110] oneDNN custom operations are on. You may see slightly different numerical results due to floating-point round-off errors from different computation orders. To turn them off, set the environment variable `TF_ENABLE_ONEDNN_OPTS=0`.\n",
      "2023-09-13 17:00:40.340404: I tensorflow/core/platform/cpu_feature_guard.cc:182] This TensorFlow binary is optimized to use available CPU instructions in performance-critical operations.\n",
      "To enable the following instructions: AVX2 AVX512F AVX512_VNNI FMA, in other operations, rebuild TensorFlow with the appropriate compiler flags.\n",
      "2023-09-13 17:00:40.939499: W tensorflow/compiler/tf2tensorrt/utils/py_utils.cc:38] TF-TRT Warning: Could not find TensorRT\n",
      "/home/jingyan/anaconda3/envs/dl/lib/python3.9/site-packages/numpy/core/getlimits.py:518: UserWarning: The value of the smallest subnormal for <class 'numpy.float32'> type is zero.\n",
      "  setattr(self, word, getattr(machar, word).flat[0])\n",
      "/home/jingyan/anaconda3/envs/dl/lib/python3.9/site-packages/numpy/core/getlimits.py:89: UserWarning: The value of the smallest subnormal for <class 'numpy.float32'> type is zero.\n",
      "  return self._float_to_str(self.smallest_subnormal)\n",
      "/home/jingyan/anaconda3/envs/dl/lib/python3.9/site-packages/numpy/core/getlimits.py:518: UserWarning: The value of the smallest subnormal for <class 'numpy.float64'> type is zero.\n",
      "  setattr(self, word, getattr(machar, word).flat[0])\n",
      "/home/jingyan/anaconda3/envs/dl/lib/python3.9/site-packages/numpy/core/getlimits.py:89: UserWarning: The value of the smallest subnormal for <class 'numpy.float64'> type is zero.\n",
      "  return self._float_to_str(self.smallest_subnormal)\n"
     ]
    },
    {
     "name": "stdout",
     "output_type": "stream",
     "text": [
      "[   0    0    0    0    0    0    0    0    0    0    0    0    0    0\n",
      "    0    0    0    0    0    0    0    0    0    0    0    0    0 2386\n",
      " 2387 2388 2388  331  331  332  332  333  333  333  333  333  333  333\n",
      "  333  333 3694 3694 2533 2533 2533 2534 2534 2535 2535 2535 3694 3694\n",
      " 1963 1963 1963 1963 1964 1964 1964 1965 1965 2692 2692 2693 2693 2693\n",
      " 2693 2693 2693 2693 2693 2694 2694 2694 2694 2694 2694 2694 2694 3694\n",
      " 3694 2008 2008 2008 2009 2009 2010 2010  388  388  389  389  389  389\n",
      "  389  389  389  390  390 3694 3253 3253 3253 3253 3253 3253 3253 3253\n",
      " 3253 3254 3254 3254 3254 3254 3254 3254 3254 3254 3255 3255 3694 3694\n",
      " 3694 3694]\n"
     ]
    }
   ],
   "source": [
    "import sys\n",
    "sys.path.append('../src')\n",
    "from csi_sign_language.data.dataset.phoenix14 import Phoenix14SegDataset, Phoenix14GraphSegDataset\n",
    "from omegaconf import DictConfig, OmegaConf\n",
    "from csi_sign_language.data.build import build_dataset\n",
    "import matplotlib.pyplot as plt\n",
    "\n",
    "cfg = OmegaConf.load('../configs/defaultv2.yaml')\n",
    "dataset = build_dataset(cfg)['train_set']\n",
    "\n",
    "# for i in range(21):\n",
    "#     plt.figure()\n",
    "#     plt.plot(dataset[0]['lhand'][:, i, 0])\n",
    "\n",
    "print(dataset[0]['annotation'])"
   ]
  },
  {
   "cell_type": "code",
   "execution_count": null,
   "metadata": {},
   "outputs": [],
   "source": []
  }
 ],
 "metadata": {
  "kernelspec": {
   "display_name": "dl",
   "language": "python",
   "name": "python3"
  },
  "language_info": {
   "codemirror_mode": {
    "name": "ipython",
    "version": 3
   },
   "file_extension": ".py",
   "mimetype": "text/x-python",
   "name": "python",
   "nbconvert_exporter": "python",
   "pygments_lexer": "ipython3",
   "version": "3.9.16"
  },
  "orig_nbformat": 4
 },
 "nbformat": 4,
 "nbformat_minor": 2
}
